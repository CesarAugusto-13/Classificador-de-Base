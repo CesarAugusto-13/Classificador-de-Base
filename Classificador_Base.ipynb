{
  "nbformat": 4,
  "nbformat_minor": 0,
  "metadata": {
    "colab": {
      "provenance": [],
      "authorship_tag": "ABX9TyPArIqZWOMd7VMSGPQgeGlJ",
      "include_colab_link": true
    },
    "kernelspec": {
      "name": "python3",
      "display_name": "Python 3"
    },
    "language_info": {
      "name": "python"
    }
  },
  "cells": [
    {
      "cell_type": "markdown",
      "metadata": {
        "id": "view-in-github",
        "colab_type": "text"
      },
      "source": [
        "<a href=\"https://colab.research.google.com/github/CesarAugusto-13/Classificador-de-Base/blob/main/Classificador_Base.ipynb\" target=\"_parent\"><img src=\"https://colab.research.google.com/assets/colab-badge.svg\" alt=\"Open In Colab\"/></a>"
      ]
    },
    {
      "cell_type": "markdown",
      "source": [
        "#Majority Learner"
      ],
      "metadata": {
        "id": "uXXSaBoT-BcS"
      }
    },
    {
      "cell_type": "code",
      "source": [
        "!pip install Orange3"
      ],
      "metadata": {
        "id": "4l1uOtSSNNUd"
      },
      "execution_count": null,
      "outputs": []
    },
    {
      "cell_type": "code",
      "source": [
        "import Orange"
      ],
      "metadata": {
        "id": "JfI5pKJxNOO7"
      },
      "execution_count": null,
      "outputs": []
    },
    {
      "cell_type": "markdown",
      "source": [
        "##Base credit data"
      ],
      "metadata": {
        "id": "LEsmhp909577"
      }
    },
    {
      "cell_type": "code",
      "execution_count": null,
      "metadata": {
        "id": "Mbf1pBSS8Df7"
      },
      "outputs": [],
      "source": [
        "base_credit = Orange.data.Table('credit_data_regras.csv')"
      ]
    },
    {
      "cell_type": "code",
      "source": [
        "base_credit.domain"
      ],
      "metadata": {
        "colab": {
          "base_uri": "https://localhost:8080/"
        },
        "id": "saJOSCPhOgpR",
        "outputId": "66aacc5a-80e8-4f06-c8ea-6d38ec5fca3f"
      },
      "execution_count": null,
      "outputs": [
        {
          "output_type": "execute_result",
          "data": {
            "text/plain": [
              "[income, age, loan | default]"
            ]
          },
          "metadata": {},
          "execution_count": 5
        }
      ]
    },
    {
      "cell_type": "code",
      "source": [
        "majority = Orange.classification.MajorityLearner()"
      ],
      "metadata": {
        "id": "HQXfpxgVOgiF"
      },
      "execution_count": null,
      "outputs": []
    },
    {
      "cell_type": "code",
      "source": [
        "previsoes = Orange.evaluation.testing.TestOnTestData(base_credit, base_credit, [majority])"
      ],
      "metadata": {
        "id": "RFo7IYsJOuR5"
      },
      "execution_count": null,
      "outputs": []
    },
    {
      "cell_type": "code",
      "source": [
        "Orange.evaluation.CA(previsoes)"
      ],
      "metadata": {
        "colab": {
          "base_uri": "https://localhost:8080/"
        },
        "id": "W7gA21ljP2k5",
        "outputId": "2862e758-132e-4450-ccf4-bd06681f884a"
      },
      "execution_count": null,
      "outputs": [
        {
          "output_type": "execute_result",
          "data": {
            "text/plain": [
              "array([0.8585])"
            ]
          },
          "metadata": {},
          "execution_count": 8
        }
      ]
    },
    {
      "cell_type": "code",
      "source": [
        "for registro in base_credit:\n",
        "  print(registro.get_class())"
      ],
      "metadata": {
        "id": "PkKJO9CkP8Gq"
      },
      "execution_count": null,
      "outputs": []
    },
    {
      "cell_type": "code",
      "source": [
        "from collections import Counter\n",
        "Counter(str(registro.get_class()) for registro in base_credit)"
      ],
      "metadata": {
        "colab": {
          "base_uri": "https://localhost:8080/"
        },
        "id": "oiCaBclrP8F2",
        "outputId": "c3e94c41-fab6-4030-e978-c18fadf636c3"
      },
      "execution_count": null,
      "outputs": [
        {
          "output_type": "execute_result",
          "data": {
            "text/plain": [
              "Counter({'0': 1717, '1': 283})"
            ]
          },
          "metadata": {},
          "execution_count": 11
        }
      ]
    },
    {
      "cell_type": "code",
      "source": [
        "1717 / 2000"
      ],
      "metadata": {
        "colab": {
          "base_uri": "https://localhost:8080/"
        },
        "id": "1gncb1G90UA4",
        "outputId": "589c71e2-9c3c-40b0-e84a-9d3c717136db"
      },
      "execution_count": null,
      "outputs": [
        {
          "output_type": "execute_result",
          "data": {
            "text/plain": [
              "0.8585"
            ]
          },
          "metadata": {},
          "execution_count": 12
        }
      ]
    },
    {
      "cell_type": "markdown",
      "source": [
        "##Base census"
      ],
      "metadata": {
        "id": "Ad189F-i-M_2"
      }
    },
    {
      "cell_type": "code",
      "source": [
        "base_census = Orange.data.Table('/content/credit_data_regras.csv')"
      ],
      "metadata": {
        "id": "4H2y3xDC-NIl"
      },
      "execution_count": null,
      "outputs": []
    },
    {
      "cell_type": "code",
      "source": [
        "base_census.domain"
      ],
      "metadata": {
        "colab": {
          "base_uri": "https://localhost:8080/"
        },
        "id": "aWxgB3IC0v_f",
        "outputId": "944dc96f-e826-4330-dd45-3f00e8ee1dd0"
      },
      "execution_count": null,
      "outputs": [
        {
          "output_type": "execute_result",
          "data": {
            "text/plain": [
              "[income, age, loan | default]"
            ]
          },
          "metadata": {},
          "execution_count": 14
        }
      ]
    },
    {
      "cell_type": "code",
      "source": [
        "majority = Orange.classification.MajorityLearner()\n",
        "previsoes = Orange.evaluation.testing.TestOnTestData(base_census, base_census, [majority])\n",
        "Orange.evaluation.CA(previsoes)"
      ],
      "metadata": {
        "colab": {
          "base_uri": "https://localhost:8080/"
        },
        "id": "2WnT4nc80yUu",
        "outputId": "cd3cf38e-37d8-4cde-a7ef-de4543e3d1c9"
      },
      "execution_count": null,
      "outputs": [
        {
          "output_type": "execute_result",
          "data": {
            "text/plain": [
              "array([0.8585])"
            ]
          },
          "metadata": {},
          "execution_count": 19
        }
      ]
    },
    {
      "cell_type": "code",
      "source": [
        "Counter(str(registro.get_class()) for registro in base_census)"
      ],
      "metadata": {
        "colab": {
          "base_uri": "https://localhost:8080/"
        },
        "id": "qpq_pDbsGDUD",
        "outputId": "e2bcab64-b520-45f2-e260-30719b554fd7"
      },
      "execution_count": null,
      "outputs": [
        {
          "output_type": "execute_result",
          "data": {
            "text/plain": [
              "Counter({'0': 1717, '1': 283})"
            ]
          },
          "metadata": {},
          "execution_count": 20
        }
      ]
    },
    {
      "cell_type": "code",
      "source": [
        "24720 / (24720+7841)"
      ],
      "metadata": {
        "colab": {
          "base_uri": "https://localhost:8080/"
        },
        "id": "skBXk4qZGC6Z",
        "outputId": "b727d5df-522f-4104-f420-bb4e2c16a54f"
      },
      "execution_count": null,
      "outputs": [
        {
          "output_type": "execute_result",
          "data": {
            "text/plain": [
              "0.7591904425539756"
            ]
          },
          "metadata": {},
          "execution_count": 21
        }
      ]
    },
    {
      "cell_type": "code",
      "source": [],
      "metadata": {
        "id": "mPIxE_bqGC22"
      },
      "execution_count": null,
      "outputs": []
    }
  ]
}